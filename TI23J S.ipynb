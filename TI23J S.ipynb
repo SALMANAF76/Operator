{
 "cells": [
  {
   "cell_type": "code",
   "execution_count": 1,
   "id": "9d8326b4",
   "metadata": {},
   "outputs": [
    {
     "name": "stdout",
     "output_type": "stream",
     "text": [
      "isikan bilangan 1100\n",
      "isikan bilangan 2200\n",
      "Hasil 100 + 200 = 300\n"
     ]
    }
   ],
   "source": [
    "bil1 = input('isikan bilangan 1')\n",
    "bil2 = input('isikan bilangan 2')\n",
    "hasil = int(bil1) + int(bil2)\n",
    "print(\"Hasil\", bil1,\"+\", bil2, \"=\",hasil)"
   ]
  },
  {
   "cell_type": "code",
   "execution_count": null,
   "id": "bd307f5b",
   "metadata": {},
   "outputs": [],
   "source": []
  },
  {
   "cell_type": "code",
   "execution_count": 2,
   "id": "33ac47d6",
   "metadata": {
    "scrolled": true
   },
   "outputs": [
    {
     "name": "stdout",
     "output_type": "stream",
     "text": [
      "isikan bilangan 1:100\n",
      "isikan bilangan 2:200\n",
      "Hasil luas = 20000\n",
      "Hasil keliling = 600\n"
     ]
    }
   ],
   "source": [
    "bil1 = input('isikan bilangan 1:')\n",
    "bil2 = input('isikan bilangan 2:')\n",
    "luas = int(bil1) * int(bil2)\n",
    "keliling = 2*(int(bil1) + int(bil2))\n",
    "print(\"Hasil luas\",\"=\",luas)\n",
    "print(\"Hasil keliling\",\"=\",keliling)"
   ]
  },
  {
   "cell_type": "code",
   "execution_count": 3,
   "id": "bc6fb983",
   "metadata": {},
   "outputs": [
    {
     "name": "stdout",
     "output_type": "stream",
     "text": [
      "A\n",
      "B\n",
      "C\n",
      "D^_^"
     ]
    }
   ],
   "source": [
    "print(\"A\",\"B\",\"C\",\"D\", sep='\\n', end=\"^_^\")"
   ]
  },
  {
   "cell_type": "code",
   "execution_count": 5,
   "id": "f87f6b76",
   "metadata": {},
   "outputs": [
    {
     "name": "stdout",
     "output_type": "stream",
     "text": [
      "Hasil dari 8 modulus 10 =8\n"
     ]
    }
   ],
   "source": [
    "num_1 = 8\n",
    "num_2 = 10\n",
    "\n",
    "# Hasil dari modulus 10 = 8\n",
    "\n",
    "print('Hasil dari {} modulus {} ={}'.format(num_1,num_2,num_1%num_2))"
   ]
  },
  {
   "cell_type": "code",
   "execution_count": 11,
   "id": "4bdbf68b",
   "metadata": {},
   "outputs": [
    {
     "name": "stdout",
     "output_type": "stream",
     "text": [
      "Nama anda Nol Dua Satu\n"
     ]
    }
   ],
   "source": [
    "fname = \"Nol\"\n",
    "mname =  \"Satu\"\n",
    "iname = \"Dua\"\n",
    "\n",
    "print('Nama anda {0} {2} {1}'.format(fname,mname,iname))"
   ]
  },
  {
   "cell_type": "code",
   "execution_count": 12,
   "id": "ba98062e",
   "metadata": {},
   "outputs": [
    {
     "name": "stdout",
     "output_type": "stream",
     "text": [
      "Nama anda Andri nilai anda 70\n"
     ]
    }
   ],
   "source": [
    "print('Nama anda {nama} nilai anda {nilai}'.format(nama='Andri',nilai=70))"
   ]
  },
  {
   "cell_type": "code",
   "execution_count": 29,
   "id": "cc297193",
   "metadata": {},
   "outputs": [
    {
     "name": "stdout",
     "output_type": "stream",
     "text": [
      "Karakter pertama :  U\n",
      "Karakter terakhir :  a\n",
      "Karakter tengah : a\n",
      " Nusa Putra\n",
      "Putra\n"
     ]
    }
   ],
   "source": [
    "univ = \"Universitas Nusa Putra\"\n",
    "\n",
    "print(\"Karakter pertama : \",univ[0])\n",
    "print(\"Karakter terakhir : \",univ[-1])\n",
    "print(\"Karakter tengah :\",univ[-7])\n",
    "print(univ[11:22])\n",
    "print(univ[-5:])"
   ]
  },
  {
   "cell_type": "code",
   "execution_count": 34,
   "id": "a4e1ea23",
   "metadata": {},
   "outputs": [
    {
     "name": "stdout",
     "output_type": "stream",
     "text": [
      "Nama saya Rudi Andri\n",
      "hasil penjumlahan 100 + 20 = 120\n"
     ]
    }
   ],
   "source": [
    "f_name = 'Rudi'\n",
    "l_name = 'Andri'\n",
    "\n",
    "print(f'Nama saya {f_name} {l_name}')\n",
    "\n",
    "first = 100\n",
    "second = 20\n",
    "\n",
    "print(f'hasil penjumlahan {first} + {second} = {first+second}')"
   ]
  },
  {
   "cell_type": "code",
   "execution_count": 40,
   "id": "35ba963d",
   "metadata": {},
   "outputs": [
    {
     "name": "stdout",
     "output_type": "stream",
     "text": [
      "['Andri', 'Beni', 'Cika']\n",
      "['Andri', 'Beni', 'Cika']\n",
      "Andri@Beni@Cika\n",
      "Masukan tanggal Lahir : 10/2/2023\n",
      "Masukan Nama: bill gate\n",
      "Tanggal : 10, Bulan:2, tahun:2023\n",
      "Nama Inisial : 1g\n"
     ]
    }
   ],
   "source": [
    "nama = \"Andri,Beni,Cika\"\n",
    "nama2 = \"Andri Beni Cika\"\n",
    "#split -> memisahkan string berdasarkan karakter tertentu\n",
    "print(nama2.split())\n",
    "print(nama.split(','))\n",
    "\n",
    "#join -> menggabungkan string kedalam kumpulan karakter\n",
    "print('@'.join(nama.split(',')))\n",
    "\n",
    "#input tgl lahir-> Bill Gate\n",
    "#Output:\n",
    "#tgl: 20, Bulan:Oktober, Tahun :2010\n",
    "#Nama Inisial : BG\n",
    "\n",
    "tgl = input(\"Masukan tanggal Lahir : \")\n",
    "nama = input (\"Masukan Nama: \")\n",
    "pemisah = tgl.split('/')\n",
    "print (f\"Tanggal : {pemisah[0]}, Bulan:{pemisah[1]}, tahun:{pemisah[2]}\")\n",
    "pemisah2 = nama.split()\n",
    "nama_pertama = pemisah[0]\n",
    "nama_terakhir = pemisah2[1]\n",
    "print(f\"Nama Inisial : {nama_pertama[0]+nama_terakhir[0]}\")\n"
   ]
  }
 ],
 "metadata": {
  "kernelspec": {
   "display_name": "Python 3 (ipykernel)",
   "language": "python",
   "name": "python3"
  },
  "language_info": {
   "codemirror_mode": {
    "name": "ipython",
    "version": 3
   },
   "file_extension": ".py",
   "mimetype": "text/x-python",
   "name": "python",
   "nbconvert_exporter": "python",
   "pygments_lexer": "ipython3",
   "version": "3.9.12"
  }
 },
 "nbformat": 4,
 "nbformat_minor": 5
}
