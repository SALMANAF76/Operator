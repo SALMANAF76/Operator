{
 "cells": [
  {
   "cell_type": "markdown",
   "id": "9c679812",
   "metadata": {},
   "source": [
    "1. Operator Arotmatika"
   ]
  },
  {
   "cell_type": "code",
   "execution_count": 22,
   "id": "ed7598bb",
   "metadata": {},
   "outputs": [
    {
     "name": "stdout",
     "output_type": "stream",
     "text": [
      "13\n",
      "7\n",
      "30\n",
      "3.3333333333333335\n",
      "3.3333333333333335\n",
      "1000\n",
      "1\n"
     ]
    }
   ],
   "source": [
    "num1 = 10\n",
    "num2 = 3\n",
    "\n",
    "jumlah = num1 + num2\n",
    "kurang = num1 - num2\n",
    "kali = num1 * num2\n",
    "bagi = num1 / num2\n",
    "bagi_bulat = num1 // num2\n",
    "pangkat = num1 ** num2\n",
    "modulus = num1 % num2\n",
    "\n",
    "print(jumlah)\n",
    "print(kurang)\n",
    "print(kali)\n",
    "print(bagi)\n",
    "print(bagi_bulat)\n",
    "print(pangkat)\n",
    "print(modulus)"
   ]
  },
  {
   "cell_type": "code",
   "execution_count": 4,
   "id": "db7b2220",
   "metadata": {},
   "outputs": [
    {
     "name": "stdout",
     "output_type": "stream",
     "text": [
      "15\n",
      "11\n",
      "22\n",
      "22\n",
      "11\n",
      "1331\n",
      "1\n"
     ]
    }
   ],
   "source": [
    "x = 5 #assigment operator\n",
    "x +=10 # x = x + 10 => 15\n",
    "print(x)\n",
    "x -=4 # x = x -4 => 11\n",
    "print(x)\n",
    "x *=2 # x = x * 2 => 22\n",
    "print(x)\n",
    "x /3 # x = x / 3 => 7....\n",
    "print(x)\n",
    "x //=2 # x = x //2 => 3.0\n",
    "print(x)\n",
    "x **=3 # x ** 3 => 27\n",
    "print(x)\n",
    "x %=2 # x = x % 2 =>1\n",
    "print(x)\n",
    "\n",
    "data = [1,2,3,4,5]\n",
    "total = 0\n",
    "\n",
    "for i in range(o,5):\n",
    "total += data[i]\n",
    "print(\"Total :\" , total)"
   ]
  },
  {
   "cell_type": "markdown",
   "id": "13292cce",
   "metadata": {},
   "source": [
    "3. Operasi pertandingan"
   ]
  },
  {
   "cell_type": "code",
   "execution_count": 13,
   "id": "a73e5c11",
   "metadata": {},
   "outputs": [
    {
     "name": "stdout",
     "output_type": "stream",
     "text": [
      "False\n",
      "True\n",
      "True\n",
      "False\n",
      "True\n"
     ]
    },
    {
     "ename": "NameError",
     "evalue": "name 'is_less_than_equal' is not defined",
     "output_type": "error",
     "traceback": [
      "\u001b[1;31m---------------------------------------------------------------------------\u001b[0m",
      "\u001b[1;31mNameError\u001b[0m                                 Traceback (most recent call last)",
      "Input \u001b[1;32mIn [13]\u001b[0m, in \u001b[0;36m<cell line: 16>\u001b[1;34m()\u001b[0m\n\u001b[0;32m     14\u001b[0m \u001b[38;5;28mprint\u001b[39m(is_less_than)\n\u001b[0;32m     15\u001b[0m \u001b[38;5;28mprint\u001b[39m(is_greater_equal)\n\u001b[1;32m---> 16\u001b[0m \u001b[38;5;28mprint\u001b[39m(\u001b[43mis_less_than_equal\u001b[49m)\n",
      "\u001b[1;31mNameError\u001b[0m: name 'is_less_than_equal' is not defined"
     ]
    }
   ],
   "source": [
    "bil1 = 8\n",
    "bil2 = 7\n",
    "\n",
    "is_equal = bil1 == bil2\n",
    "is_not_equal = bil1 != bil2\n",
    "is_greater_than = bil1 > bil2\n",
    "is_less_than = bil1 < bil2\n",
    "is_greater_equal = bil1 >= bil2\n",
    "is_less_equal = bil1 <= bil2\n",
    "\n",
    "print(is_equal)\n",
    "print(is_not_equal)\n",
    "print(is_greater_than)\n",
    "print(is_less_than)\n",
    "print(is_greater_equal)\n",
    "print(is_less_than_equal)"
   ]
  },
  {
   "cell_type": "markdown",
   "id": "66ceeab1",
   "metadata": {},
   "source": [
    "4. Operator Logika"
   ]
  },
  {
   "cell_type": "code",
   "execution_count": 11,
   "id": "d5d49bcb",
   "metadata": {},
   "outputs": [
    {
     "name": "stdout",
     "output_type": "stream",
     "text": [
      "True\n",
      "False\n",
      "True\n"
     ]
    }
   ],
   "source": [
    "var1 = 4\n",
    "var2 = 10\n",
    "\n",
    "opr_and = var1 < var2 and var1 <=4 #true\n",
    "opr_or = var1 >= var2 or var1 % 2==1 #false\n",
    "opr_not = not opr_or\n",
    "print(opr_and)\n",
    "print(opr_or)\n",
    "print(opr_and)\n"
   ]
  },
  {
   "cell_type": "markdown",
   "id": "ff2aaab5",
   "metadata": {},
   "source": [
    "5. Operator identitas"
   ]
  },
  {
   "cell_type": "code",
   "execution_count": 16,
   "id": "77b286d1",
   "metadata": {},
   "outputs": [
    {
     "name": "stdout",
     "output_type": "stream",
     "text": [
      "True\n"
     ]
    },
    {
     "ename": "NameError",
     "evalue": "name 'my_your_fruits' is not defined",
     "output_type": "error",
     "traceback": [
      "\u001b[1;31m---------------------------------------------------------------------------\u001b[0m",
      "\u001b[1;31mNameError\u001b[0m                                 Traceback (most recent call last)",
      "Input \u001b[1;32mIn [16]\u001b[0m, in \u001b[0;36m<cell line: 6>\u001b[1;34m()\u001b[0m\n\u001b[0;32m      3\u001b[0m your_fruits \u001b[38;5;241m=\u001b[39m [\u001b[38;5;124m\"\u001b[39m\u001b[38;5;124mapple\u001b[39m\u001b[38;5;124m\"\u001b[39m,\u001b[38;5;124m\"\u001b[39m\u001b[38;5;124mmangoes\u001b[39m\u001b[38;5;124m\"\u001b[39m,\u001b[38;5;124m\"\u001b[39m\u001b[38;5;124mwatermelon\u001b[39m\u001b[38;5;124m\"\u001b[39m] \n\u001b[0;32m      5\u001b[0m \u001b[38;5;28mprint\u001b[39m(fruits \u001b[38;5;129;01mis\u001b[39;00m my_favorite_fruits)\n\u001b[1;32m----> 6\u001b[0m \u001b[38;5;28mprint\u001b[39m(fruits \u001b[38;5;129;01mis\u001b[39;00m \u001b[43mmy_your_fruits\u001b[49m)\n\u001b[0;32m      7\u001b[0m \u001b[38;5;28mprint\u001b[39m(fruits \u001b[38;5;129;01mis\u001b[39;00m \u001b[38;5;129;01mnot\u001b[39;00m my_favorite_fruits)\n\u001b[0;32m      8\u001b[0m \u001b[38;5;28mprint\u001b[39m(fruits \u001b[38;5;129;01mis\u001b[39;00m \u001b[38;5;129;01mnot\u001b[39;00m your_fruits)\n",
      "\u001b[1;31mNameError\u001b[0m: name 'my_your_fruits' is not defined"
     ]
    }
   ],
   "source": [
    "fruits = [\"apple\",\"mangoes\",\"watermelon\"]\n",
    "my_favorite_fruits = fruits \n",
    "your_fruits = [\"apple\",\"mangoes\",\"watermelon\"] \n",
    "\n",
    "print(fruits is my_favorite_fruits)\n",
    "print(fruits is my_your_fruits)\n",
    "print(fruits is not my_favorite_fruits)\n",
    "print(fruits is not your_fruits)\n",
    "\n",
    "a = 5\n",
    "b = 5 #python menggunakan metode hasing dalam memberikan nilai variabel\n",
    "print( a is b)\n",
    "print( a is not b)"
   ]
  },
  {
   "cell_type": "markdown",
   "id": "6753313d",
   "metadata": {},
   "source": [
    "6. Operator keanggotaan"
   ]
  },
  {
   "cell_type": "code",
   "execution_count": 15,
   "id": "ad7f64c7",
   "metadata": {},
   "outputs": [
    {
     "name": "stdout",
     "output_type": "stream",
     "text": [
      "True\n",
      "False\n",
      "False\n",
      "True\n"
     ]
    }
   ],
   "source": [
    "student_names = [\"andi\",\"beni\",\"chika\"]\n",
    "print(\"beni\" in student_names)\n",
    "print(\"andi\" not in student_names)\n",
    "print(\"defi\" in student_names)\n",
    "print(\"defi\" not in student_names)"
   ]
  },
  {
   "cell_type": "markdown",
   "id": "adcc4e7f",
   "metadata": {},
   "source": [
    "7. Operator Bitwise"
   ]
  },
  {
   "cell_type": "code",
   "execution_count": 23,
   "id": "495844b6",
   "metadata": {},
   "outputs": [
    {
     "name": "stdout",
     "output_type": "stream",
     "text": [
      "15\n",
      "255\n",
      "240\n"
     ]
    }
   ],
   "source": [
    "nilai_and = 255 & 15 \n",
    "nilai_or = 255 | 15\n",
    "nilai_xor = 255 ^ 15\n",
    "# 11111111\n",
    "# 00001111\n",
    "# -------- xor\n",
    "# 11110000 => 16 + 32 + 64 + 128\n",
    "print(nilai_and)\n",
    "print(nilai_or)\n",
    "print(nilai_xor)"
   ]
  },
  {
   "cell_type": "code",
   "execution_count": 29,
   "id": "62c2c984",
   "metadata": {},
   "outputs": [
    {
     "name": "stdout",
     "output_type": "stream",
     "text": [
      "['Andri', 'Beni', 'Cika']\n",
      "['Andri Beni Cika']\n",
      "Andri Beni Cika\n"
     ]
    }
   ],
   "source": []
  }
 ],
 "metadata": {
  "kernelspec": {
   "display_name": "Python 3 (ipykernel)",
   "language": "python",
   "name": "python3"
  },
  "language_info": {
   "codemirror_mode": {
    "name": "ipython",
    "version": 3
   },
   "file_extension": ".py",
   "mimetype": "text/x-python",
   "name": "python",
   "nbconvert_exporter": "python",
   "pygments_lexer": "ipython3",
   "version": "3.9.12"
  }
 },
 "nbformat": 4,
 "nbformat_minor": 5
}
